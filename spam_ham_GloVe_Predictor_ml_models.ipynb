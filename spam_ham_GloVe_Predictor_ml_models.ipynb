{
  "cells": [
    {
      "cell_type": "code",
      "execution_count": 1,
      "metadata": {
        "colab": {
          "base_uri": "https://localhost:8080/"
        },
        "id": "JC5rXgHKZBaK",
        "outputId": "07e50255-b0f0-4192-f8e1-3d665bcedeea"
      },
      "outputs": [
        {
          "name": "stderr",
          "output_type": "stream",
          "text": [
            "[nltk_data] Downloading package stopwords to /root/nltk_data...\n",
            "[nltk_data]   Unzipping corpora/stopwords.zip.\n",
            "[nltk_data] Downloading package wordnet to /root/nltk_data...\n",
            "[nltk_data] Downloading package omw-1.4 to /root/nltk_data...\n"
          ]
        },
        {
          "data": {
            "text/plain": [
              "True"
            ]
          },
          "execution_count": 1,
          "metadata": {},
          "output_type": "execute_result"
        }
      ],
      "source": [
        "import numpy as np\n",
        "import pandas as pd\n",
        "from sklearn.feature_extraction.text import CountVectorizer\n",
        "from sklearn.feature_extraction.text import TfidfVectorizer\n",
        "import re\n",
        "import nltk\n",
        "nltk.download('stopwords')\n",
        "nltk.download('wordnet')\n",
        "nltk.download('omw-1.4')"
      ]
    },
    {
      "cell_type": "code",
      "execution_count": 2,
      "metadata": {
        "id": "KizGwpc0aJ8U"
      },
      "outputs": [],
      "source": [
        "df = pd.read_csv('spam.csv')"
      ]
    },
    {
      "cell_type": "code",
      "execution_count": 2,
      "metadata": {
        "id": "VHN5gZxaaWdO"
      },
      "outputs": [],
      "source": []
    },
    {
      "cell_type": "code",
      "execution_count": 3,
      "metadata": {
        "colab": {
          "base_uri": "https://localhost:8080/",
          "height": 206
        },
        "id": "RsWxWvl5abSS",
        "outputId": "16ef45a2-4c2f-48e5-a339-f061a4846ae7"
      },
      "outputs": [
        {
          "data": {
            "text/html": [
              "\n",
              "  <div id=\"df-9097dca0-54f7-494a-8163-13f317967cb9\" class=\"colab-df-container\">\n",
              "    <div>\n",
              "<style scoped>\n",
              "    .dataframe tbody tr th:only-of-type {\n",
              "        vertical-align: middle;\n",
              "    }\n",
              "\n",
              "    .dataframe tbody tr th {\n",
              "        vertical-align: top;\n",
              "    }\n",
              "\n",
              "    .dataframe thead th {\n",
              "        text-align: right;\n",
              "    }\n",
              "</style>\n",
              "<table border=\"1\" class=\"dataframe\">\n",
              "  <thead>\n",
              "    <tr style=\"text-align: right;\">\n",
              "      <th></th>\n",
              "      <th>Category</th>\n",
              "      <th>Message</th>\n",
              "    </tr>\n",
              "  </thead>\n",
              "  <tbody>\n",
              "    <tr>\n",
              "      <th>0</th>\n",
              "      <td>ham</td>\n",
              "      <td>Go until jurong point, crazy.. Available only ...</td>\n",
              "    </tr>\n",
              "    <tr>\n",
              "      <th>1</th>\n",
              "      <td>ham</td>\n",
              "      <td>Ok lar... Joking wif u oni...</td>\n",
              "    </tr>\n",
              "    <tr>\n",
              "      <th>2</th>\n",
              "      <td>spam</td>\n",
              "      <td>Free entry in 2 a wkly comp to win FA Cup fina...</td>\n",
              "    </tr>\n",
              "    <tr>\n",
              "      <th>3</th>\n",
              "      <td>ham</td>\n",
              "      <td>U dun say so early hor... U c already then say...</td>\n",
              "    </tr>\n",
              "    <tr>\n",
              "      <th>4</th>\n",
              "      <td>ham</td>\n",
              "      <td>Nah I don't think he goes to usf, he lives aro...</td>\n",
              "    </tr>\n",
              "  </tbody>\n",
              "</table>\n",
              "</div>\n",
              "    <div class=\"colab-df-buttons\">\n",
              "\n",
              "  <div class=\"colab-df-container\">\n",
              "    <button class=\"colab-df-convert\" onclick=\"convertToInteractive('df-9097dca0-54f7-494a-8163-13f317967cb9')\"\n",
              "            title=\"Convert this dataframe to an interactive table.\"\n",
              "            style=\"display:none;\">\n",
              "\n",
              "  <svg xmlns=\"http://www.w3.org/2000/svg\" height=\"24px\" viewBox=\"0 -960 960 960\">\n",
              "    <path d=\"M120-120v-720h720v720H120Zm60-500h600v-160H180v160Zm220 220h160v-160H400v160Zm0 220h160v-160H400v160ZM180-400h160v-160H180v160Zm440 0h160v-160H620v160ZM180-180h160v-160H180v160Zm440 0h160v-160H620v160Z\"/>\n",
              "  </svg>\n",
              "    </button>\n",
              "\n",
              "  <style>\n",
              "    .colab-df-container {\n",
              "      display:flex;\n",
              "      gap: 12px;\n",
              "    }\n",
              "\n",
              "    .colab-df-convert {\n",
              "      background-color: #E8F0FE;\n",
              "      border: none;\n",
              "      border-radius: 50%;\n",
              "      cursor: pointer;\n",
              "      display: none;\n",
              "      fill: #1967D2;\n",
              "      height: 32px;\n",
              "      padding: 0 0 0 0;\n",
              "      width: 32px;\n",
              "    }\n",
              "\n",
              "    .colab-df-convert:hover {\n",
              "      background-color: #E2EBFA;\n",
              "      box-shadow: 0px 1px 2px rgba(60, 64, 67, 0.3), 0px 1px 3px 1px rgba(60, 64, 67, 0.15);\n",
              "      fill: #174EA6;\n",
              "    }\n",
              "\n",
              "    .colab-df-buttons div {\n",
              "      margin-bottom: 4px;\n",
              "    }\n",
              "\n",
              "    [theme=dark] .colab-df-convert {\n",
              "      background-color: #3B4455;\n",
              "      fill: #D2E3FC;\n",
              "    }\n",
              "\n",
              "    [theme=dark] .colab-df-convert:hover {\n",
              "      background-color: #434B5C;\n",
              "      box-shadow: 0px 1px 3px 1px rgba(0, 0, 0, 0.15);\n",
              "      filter: drop-shadow(0px 1px 2px rgba(0, 0, 0, 0.3));\n",
              "      fill: #FFFFFF;\n",
              "    }\n",
              "  </style>\n",
              "\n",
              "    <script>\n",
              "      const buttonEl =\n",
              "        document.querySelector('#df-9097dca0-54f7-494a-8163-13f317967cb9 button.colab-df-convert');\n",
              "      buttonEl.style.display =\n",
              "        google.colab.kernel.accessAllowed ? 'block' : 'none';\n",
              "\n",
              "      async function convertToInteractive(key) {\n",
              "        const element = document.querySelector('#df-9097dca0-54f7-494a-8163-13f317967cb9');\n",
              "        const dataTable =\n",
              "          await google.colab.kernel.invokeFunction('convertToInteractive',\n",
              "                                                    [key], {});\n",
              "        if (!dataTable) return;\n",
              "\n",
              "        const docLinkHtml = 'Like what you see? Visit the ' +\n",
              "          '<a target=\"_blank\" href=https://colab.research.google.com/notebooks/data_table.ipynb>data table notebook</a>'\n",
              "          + ' to learn more about interactive tables.';\n",
              "        element.innerHTML = '';\n",
              "        dataTable['output_type'] = 'display_data';\n",
              "        await google.colab.output.renderOutput(dataTable, element);\n",
              "        const docLink = document.createElement('div');\n",
              "        docLink.innerHTML = docLinkHtml;\n",
              "        element.appendChild(docLink);\n",
              "      }\n",
              "    </script>\n",
              "  </div>\n",
              "\n",
              "\n",
              "<div id=\"df-7728c6ac-d40c-4a0f-a03c-1ff2d6fc9832\">\n",
              "  <button class=\"colab-df-quickchart\" onclick=\"quickchart('df-7728c6ac-d40c-4a0f-a03c-1ff2d6fc9832')\"\n",
              "            title=\"Suggest charts.\"\n",
              "            style=\"display:none;\">\n",
              "\n",
              "<svg xmlns=\"http://www.w3.org/2000/svg\" height=\"24px\"viewBox=\"0 0 24 24\"\n",
              "     width=\"24px\">\n",
              "    <g>\n",
              "        <path d=\"M19 3H5c-1.1 0-2 .9-2 2v14c0 1.1.9 2 2 2h14c1.1 0 2-.9 2-2V5c0-1.1-.9-2-2-2zM9 17H7v-7h2v7zm4 0h-2V7h2v10zm4 0h-2v-4h2v4z\"/>\n",
              "    </g>\n",
              "</svg>\n",
              "  </button>\n",
              "\n",
              "<style>\n",
              "  .colab-df-quickchart {\n",
              "      --bg-color: #E8F0FE;\n",
              "      --fill-color: #1967D2;\n",
              "      --hover-bg-color: #E2EBFA;\n",
              "      --hover-fill-color: #174EA6;\n",
              "      --disabled-fill-color: #AAA;\n",
              "      --disabled-bg-color: #DDD;\n",
              "  }\n",
              "\n",
              "  [theme=dark] .colab-df-quickchart {\n",
              "      --bg-color: #3B4455;\n",
              "      --fill-color: #D2E3FC;\n",
              "      --hover-bg-color: #434B5C;\n",
              "      --hover-fill-color: #FFFFFF;\n",
              "      --disabled-bg-color: #3B4455;\n",
              "      --disabled-fill-color: #666;\n",
              "  }\n",
              "\n",
              "  .colab-df-quickchart {\n",
              "    background-color: var(--bg-color);\n",
              "    border: none;\n",
              "    border-radius: 50%;\n",
              "    cursor: pointer;\n",
              "    display: none;\n",
              "    fill: var(--fill-color);\n",
              "    height: 32px;\n",
              "    padding: 0;\n",
              "    width: 32px;\n",
              "  }\n",
              "\n",
              "  .colab-df-quickchart:hover {\n",
              "    background-color: var(--hover-bg-color);\n",
              "    box-shadow: 0 1px 2px rgba(60, 64, 67, 0.3), 0 1px 3px 1px rgba(60, 64, 67, 0.15);\n",
              "    fill: var(--button-hover-fill-color);\n",
              "  }\n",
              "\n",
              "  .colab-df-quickchart-complete:disabled,\n",
              "  .colab-df-quickchart-complete:disabled:hover {\n",
              "    background-color: var(--disabled-bg-color);\n",
              "    fill: var(--disabled-fill-color);\n",
              "    box-shadow: none;\n",
              "  }\n",
              "\n",
              "  .colab-df-spinner {\n",
              "    border: 2px solid var(--fill-color);\n",
              "    border-color: transparent;\n",
              "    border-bottom-color: var(--fill-color);\n",
              "    animation:\n",
              "      spin 1s steps(1) infinite;\n",
              "  }\n",
              "\n",
              "  @keyframes spin {\n",
              "    0% {\n",
              "      border-color: transparent;\n",
              "      border-bottom-color: var(--fill-color);\n",
              "      border-left-color: var(--fill-color);\n",
              "    }\n",
              "    20% {\n",
              "      border-color: transparent;\n",
              "      border-left-color: var(--fill-color);\n",
              "      border-top-color: var(--fill-color);\n",
              "    }\n",
              "    30% {\n",
              "      border-color: transparent;\n",
              "      border-left-color: var(--fill-color);\n",
              "      border-top-color: var(--fill-color);\n",
              "      border-right-color: var(--fill-color);\n",
              "    }\n",
              "    40% {\n",
              "      border-color: transparent;\n",
              "      border-right-color: var(--fill-color);\n",
              "      border-top-color: var(--fill-color);\n",
              "    }\n",
              "    60% {\n",
              "      border-color: transparent;\n",
              "      border-right-color: var(--fill-color);\n",
              "    }\n",
              "    80% {\n",
              "      border-color: transparent;\n",
              "      border-right-color: var(--fill-color);\n",
              "      border-bottom-color: var(--fill-color);\n",
              "    }\n",
              "    90% {\n",
              "      border-color: transparent;\n",
              "      border-bottom-color: var(--fill-color);\n",
              "    }\n",
              "  }\n",
              "</style>\n",
              "\n",
              "  <script>\n",
              "    async function quickchart(key) {\n",
              "      const quickchartButtonEl =\n",
              "        document.querySelector('#' + key + ' button');\n",
              "      quickchartButtonEl.disabled = true;  // To prevent multiple clicks.\n",
              "      quickchartButtonEl.classList.add('colab-df-spinner');\n",
              "      try {\n",
              "        const charts = await google.colab.kernel.invokeFunction(\n",
              "            'suggestCharts', [key], {});\n",
              "      } catch (error) {\n",
              "        console.error('Error during call to suggestCharts:', error);\n",
              "      }\n",
              "      quickchartButtonEl.classList.remove('colab-df-spinner');\n",
              "      quickchartButtonEl.classList.add('colab-df-quickchart-complete');\n",
              "    }\n",
              "    (() => {\n",
              "      let quickchartButtonEl =\n",
              "        document.querySelector('#df-7728c6ac-d40c-4a0f-a03c-1ff2d6fc9832 button');\n",
              "      quickchartButtonEl.style.display =\n",
              "        google.colab.kernel.accessAllowed ? 'block' : 'none';\n",
              "    })();\n",
              "  </script>\n",
              "</div>\n",
              "    </div>\n",
              "  </div>\n"
            ],
            "text/plain": [
              "  Category                                            Message\n",
              "0      ham  Go until jurong point, crazy.. Available only ...\n",
              "1      ham                      Ok lar... Joking wif u oni...\n",
              "2     spam  Free entry in 2 a wkly comp to win FA Cup fina...\n",
              "3      ham  U dun say so early hor... U c already then say...\n",
              "4      ham  Nah I don't think he goes to usf, he lives aro..."
            ]
          },
          "execution_count": 3,
          "metadata": {},
          "output_type": "execute_result"
        }
      ],
      "source": [
        "df.head()"
      ]
    },
    {
      "cell_type": "code",
      "execution_count": 4,
      "metadata": {
        "id": "ERaUgGTdae6Q"
      },
      "outputs": [],
      "source": [
        "kaam_ka_df = df[['Category','Message']]\n",
        "x_old = kaam_ka_df['Message']\n",
        "y_old = kaam_ka_df['Category']\n",
        "\n",
        "for i in range(0, len(y_old)):\n",
        "  if(y_old[i]=='ham'):\n",
        "    y_old[i] = 0\n",
        "  else:\n",
        "    y_old[i] = 1\n",
        "\n",
        "y_old = y_old.astype('int')\n"
      ]
    },
    {
      "cell_type": "code",
      "execution_count": 5,
      "metadata": {
        "colab": {
          "base_uri": "https://localhost:8080/"
        },
        "id": "X7SXp-WrbJ7e",
        "outputId": "6c09b742-aa59-499a-c65d-7d26d58a326e"
      },
      "outputs": [
        {
          "data": {
            "text/plain": [
              "(0       Go until jurong point, crazy.. Available only ...\n",
              " 1                           Ok lar... Joking wif u oni...\n",
              " 2       Free entry in 2 a wkly comp to win FA Cup fina...\n",
              " 3       U dun say so early hor... U c already then say...\n",
              " 4       Nah I don't think he goes to usf, he lives aro...\n",
              "                               ...                        \n",
              " 5567    This is the 2nd time we have tried 2 contact u...\n",
              " 5568                 Will ü b going to esplanade fr home?\n",
              " 5569    Pity, * was in mood for that. So...any other s...\n",
              " 5570    The guy did some bitching but I acted like i'd...\n",
              " 5571                           Rofl. Its true to its name\n",
              " Name: Message, Length: 5572, dtype: object,\n",
              " 0       0\n",
              " 1       0\n",
              " 2       1\n",
              " 3       0\n",
              " 4       0\n",
              "        ..\n",
              " 5567    1\n",
              " 5568    0\n",
              " 5569    0\n",
              " 5570    0\n",
              " 5571    0\n",
              " Name: Category, Length: 5572, dtype: int64)"
            ]
          },
          "execution_count": 5,
          "metadata": {},
          "output_type": "execute_result"
        }
      ],
      "source": [
        "x_old,y_old"
      ]
    },
    {
      "cell_type": "code",
      "execution_count": 6,
      "metadata": {
        "id": "VI_YpmUJbctN"
      },
      "outputs": [],
      "source": [
        "cv = CountVectorizer()\n",
        "stemer = nltk.stem.PorterStemmer()\n",
        "tfidf = TfidfVectorizer()\n"
      ]
    },
    {
      "cell_type": "code",
      "execution_count": 7,
      "metadata": {
        "colab": {
          "base_uri": "https://localhost:8080/"
        },
        "id": "uRa_EMCLbMZw",
        "outputId": "deee7eea-60e2-4d13-a883-3371bd165798"
      },
      "outputs": [
        {
          "name": "stdout",
          "output_type": "stream",
          "text": [
            "0       go jurong point crazi avail bugi n great world...\n",
            "1                                   ok lar joke wif u oni\n",
            "2       free entri wkli comp win fa cup final tkt st m...\n",
            "3                     u dun say earli hor u c alreadi say\n",
            "4                    nah think goe usf live around though\n",
            "                              ...                        \n",
            "5567    nd time tri contact u u pound prize claim easi...\n",
            "5568                                b go esplanad fr home\n",
            "5569                                    piti mood suggest\n",
            "5570    guy bitch act like interest buy someth els nex...\n",
            "5571                                       rofl true name\n",
            "Name: Message, Length: 5572, dtype: object\n"
          ]
        }
      ],
      "source": [
        "def vactorization(x):\n",
        "  for i in range (0, len(x)):\n",
        "    review = re.sub('[^a-zA-Z]', ' ', x[i])\n",
        "    review = review.lower()\n",
        "    review = review.split()\n",
        "    #stemmization and removing stopwords\n",
        "    review = [stemer.stem(word) for word in review if not word in set(nltk.corpus.stopwords.words('english'))]\n",
        "    review = ' '.join(review)\n",
        "    x[i] = review\n",
        "  print(x)\n",
        "  x = cv.fit_transform(x).toarray()\n",
        "  return x\n",
        "vector_x_old = vactorization(x_old)\n"
      ]
    },
    {
      "cell_type": "code",
      "execution_count": 8,
      "metadata": {
        "colab": {
          "base_uri": "https://localhost:8080/"
        },
        "id": "ja6mdni2qdQn",
        "outputId": "7bcafe1e-8274-4527-eae9-97a9e724b335"
      },
      "outputs": [
        {
          "data": {
            "text/plain": [
              "(5572, 6296)"
            ]
          },
          "execution_count": 8,
          "metadata": {},
          "output_type": "execute_result"
        }
      ],
      "source": [
        "vector_x_old.shape"
      ]
    },
    {
      "cell_type": "code",
      "execution_count": 10,
      "metadata": {
        "colab": {
          "base_uri": "https://localhost:8080/"
        },
        "id": "SN-vCEoXckDO",
        "outputId": "d2e04006-562e-4314-fa65-8d807fb7a8e9"
      },
      "outputs": [
        {
          "name": "stdout",
          "output_type": "stream",
          "text": [
            "Mounted at /content/drive\n"
          ]
        },
        {
          "name": "stderr",
          "output_type": "stream",
          "text": [
            "[nltk_data] Downloading package punkt to /root/nltk_data...\n",
            "[nltk_data]   Unzipping tokenizers/punkt.zip.\n"
          ]
        },
        {
          "data": {
            "text/plain": [
              "True"
            ]
          },
          "execution_count": 10,
          "metadata": {},
          "output_type": "execute_result"
        }
      ],
      "source": [
        "from google.colab import drive\n",
        "drive.mount('/content/drive')\n",
        "from nltk.stem import WordNetLemmatizer\n",
        "import numpy as np\n",
        "\n",
        "words = dict()\n",
        "\n",
        "def add_to_dict(d, filename):\n",
        "  with open(filename, 'r') as f:\n",
        "    for line in f.readlines():\n",
        "      line = line.split(' ')\n",
        "\n",
        "      try:\n",
        "        d[line[0]] = np.array(line[1:], dtype=float)\n",
        "      except:\n",
        "        continue\n",
        "\n",
        "add_to_dict(words, 'drive/MyDrive/ColabNotebooks/glove.6B.50d.txt')\n",
        "words\n",
        "from nltk.stem import WordNetLemmatizer\n",
        "lemmatizer = WordNetLemmatizer()\n",
        "from nltk.tokenize import line_tokenize\n",
        "from nltk.tokenize import word_tokenize\n",
        "nltk.download('punkt')"
      ]
    },
    {
      "cell_type": "code",
      "execution_count": 11,
      "metadata": {
        "id": "u117hgfTocP2"
      },
      "outputs": [],
      "source": [
        "from tensorflow.keras.utils import pad_sequences\n",
        "\n",
        "def message_to_token_list(s):\n",
        "  tokens = word_tokenize(s)\n",
        "  lowercased_tokens = [t.lower() for t in tokens]\n",
        "  lemmatized_tokens = [lemmatizer.lemmatize(t) for t in lowercased_tokens]\n",
        "  useful_tokens = [t for t in lemmatized_tokens if t in words]\n",
        "  return useful_tokens\n",
        "\n",
        "message_to_token_list('@user feet a fathers is apple attention dysfunctional and is')\n",
        "\n",
        "def lemmatizenall(x):\n",
        "  for i in range(0, len(x)):\n",
        "    review = x[i]\n",
        "    review = review.lower()\n",
        "    review = review.split()\n",
        "    review = [lemmatizer.lemmatize(word) for word in review ]\n",
        "    x[i] = review\n",
        "  return x\n",
        "\n",
        "x_tokens_old = lemmatizenall(x_old)\n"
      ]
    },
    {
      "cell_type": "code",
      "execution_count": 12,
      "metadata": {
        "id": "5n_9FYugoxWC"
      },
      "outputs": [],
      "source": [
        "def message_to_word_vectors(message, word_dict=words):\n",
        "  vectors = []\n",
        "\n",
        "  for token in message:\n",
        "    if token not in word_dict:\n",
        "      continue\n",
        "\n",
        "    token_vector = word_dict[token]\n",
        "    vectors.append(token_vector)\n",
        "\n",
        "  return np.array(vectors, dtype=float)"
      ]
    },
    {
      "cell_type": "code",
      "execution_count": 15,
      "metadata": {
        "colab": {
          "base_uri": "https://localhost:8080/"
        },
        "id": "KtKNPpA4XxJQ",
        "outputId": "5ffd2e17-cd46-4307-ba05-37810e3ea5cf"
      },
      "outputs": [
        {
          "data": {
            "text/plain": [
              "77"
            ]
          },
          "execution_count": 15,
          "metadata": {},
          "output_type": "execute_result"
        }
      ],
      "source": [
        "maxlen = 0\n",
        "for i in range(x_old.shape[0]):\n",
        "  maxlen = max(maxlen, len(x_old[i]))\n",
        "maxlen"
      ]
    },
    {
      "cell_type": "code",
      "execution_count": 16,
      "metadata": {
        "id": "VLrk_5ubo4p6"
      },
      "outputs": [],
      "source": [
        "from tensorflow.keras.utils import pad_sequences\n",
        "\n",
        "def glove_implementation(x):\n",
        "  counter=0;\n",
        "  for curr in x:\n",
        "    x[counter]=message_to_word_vectors(curr)\n",
        "    counter=counter+1\n",
        "\n",
        "  xx = []\n",
        "\n",
        "  for i in x:\n",
        "    xx.append(i)\n",
        "  xxx = pad_sequences(xx, maxlen = maxlen, padding = 'pre', value = 0.000, dtype = 'float')\n",
        "  return xxx\n",
        "\n",
        "x_glove_old = glove_implementation(x_old)"
      ]
    },
    {
      "cell_type": "code",
      "execution_count": 17,
      "metadata": {
        "colab": {
          "base_uri": "https://localhost:8080/"
        },
        "id": "G-3bVdE6dZVT",
        "outputId": "e460f4cc-1f5d-4027-9761-2c89560fa78b"
      },
      "outputs": [
        {
          "data": {
            "text/plain": [
              "(5572, 77, 50)"
            ]
          },
          "execution_count": 17,
          "metadata": {},
          "output_type": "execute_result"
        }
      ],
      "source": [
        "x_glove_old.shape"
      ]
    },
    {
      "cell_type": "code",
      "execution_count": 19,
      "metadata": {
        "colab": {
          "base_uri": "https://localhost:8080/"
        },
        "id": "GZfwzd64r2fr",
        "outputId": "ef340dcd-c683-4be1-ba6d-7d118c807c1a"
      },
      "outputs": [
        {
          "data": {
            "text/plain": [
              "(5572, 77, 50)"
            ]
          },
          "execution_count": 19,
          "metadata": {},
          "output_type": "execute_result"
        }
      ],
      "source": [
        "x_glove_old.shape"
      ]
    },
    {
      "cell_type": "code",
      "execution_count": 20,
      "metadata": {
        "id": "95rgMLameUvh"
      },
      "outputs": [],
      "source": [
        "from tensorflow.keras.utils import to_categorical\n",
        "yy_old = to_categorical(np.array(y_old), num_classes = 3, dtype = 'int')"
      ]
    },
    {
      "cell_type": "code",
      "execution_count": 21,
      "metadata": {
        "colab": {
          "base_uri": "https://localhost:8080/"
        },
        "id": "S7PTK25GecjF",
        "outputId": "4c9a4665-e9d3-4090-ee1f-9e56c6243381"
      },
      "outputs": [
        {
          "data": {
            "text/plain": [
              "((5572, 3), (5572, 77, 50))"
            ]
          },
          "execution_count": 21,
          "metadata": {},
          "output_type": "execute_result"
        }
      ],
      "source": [
        "yy_old.shape, x_glove_old.shape"
      ]
    },
    {
      "cell_type": "code",
      "execution_count": 23,
      "metadata": {
        "id": "0wum5qz1v0KU"
      },
      "outputs": [],
      "source": [
        "test_size_old = (int)(yy_old.shape[0]*0.25)"
      ]
    },
    {
      "cell_type": "code",
      "execution_count": 24,
      "metadata": {
        "id": "DyJLVguUdo7y"
      },
      "outputs": [],
      "source": [
        "\n",
        "X_test_old = x_glove_old[ 0:test_size_old]\n",
        "X_train_old =  x_glove_old[ test_size_old:-1]\n",
        "y_test_old = y_old[ 0:test_size_old]\n",
        "y_train_old = y_old[test_size_old:-1]"
      ]
    },
    {
      "cell_type": "code",
      "execution_count": 26,
      "metadata": {
        "colab": {
          "base_uri": "https://localhost:8080/"
        },
        "id": "nx8H9oBfd7rJ",
        "outputId": "2044da83-be73-4050-f2f9-30c78c00eb9f"
      },
      "outputs": [
        {
          "data": {
            "text/plain": [
              "((4178, 77, 50), (1393, 77, 50), (4178,), (1393,))"
            ]
          },
          "execution_count": 26,
          "metadata": {},
          "output_type": "execute_result"
        }
      ],
      "source": [
        "X_train_old.shape, X_test_old.shape, y_train_old.shape, y_test_old.shape"
      ]
    },
    {
      "cell_type": "code",
      "execution_count": 29,
      "metadata": {
        "id": "w1sZLNwuf1ea"
      },
      "outputs": [],
      "source": [
        "def flatten_vec(x_glove):\n",
        "  li = []\n",
        "  for i in range (x_glove.shape[0]):\n",
        "    li.append(x_glove[i].flatten())\n",
        "  return np.array(li)"
      ]
    },
    {
      "cell_type": "code",
      "execution_count": 30,
      "metadata": {
        "id": "sAJMsPqagMci"
      },
      "outputs": [],
      "source": [
        "X_train_old1d = flatten_vec(X_train_old)\n",
        "X_test_old1d = flatten_vec(X_test_old)"
      ]
    },
    {
      "cell_type": "code",
      "execution_count": 32,
      "metadata": {
        "id": "5Ag6Ggl5iMVZ"
      },
      "outputs": [],
      "source": [
        "from sklearn import svm"
      ]
    },
    {
      "cell_type": "code",
      "execution_count": 33,
      "metadata": {
        "id": "DKdTK1I_jgsc"
      },
      "outputs": [],
      "source": [
        "classifier_old = svm.SVC(decision_function_shape='ovo').fit(X_train_old1d, y_train_old)"
      ]
    },
    {
      "cell_type": "code",
      "execution_count": 34,
      "metadata": {
        "id": "B_JkYCrfj7iT"
      },
      "outputs": [],
      "source": [
        "y_pred_old = classifier_old.predict(X_test_old1d)"
      ]
    },
    {
      "cell_type": "code",
      "execution_count": 36,
      "metadata": {
        "colab": {
          "base_uri": "https://localhost:8080/"
        },
        "id": "s4auL1MeMYzk",
        "outputId": "246b8e5f-eb86-4d52-ccc5-09e709adb64a"
      },
      "outputs": [
        {
          "name": "stdout",
          "output_type": "stream",
          "text": [
            "******* SVM ********\n",
            "printing old classification report: \n",
            "              precision    recall  f1-score   support\n",
            "\n",
            "           0       0.97      1.00      0.98      1191\n",
            "           1       0.98      0.79      0.87       202\n",
            "\n",
            "    accuracy                           0.97      1393\n",
            "   macro avg       0.97      0.89      0.93      1393\n",
            "weighted avg       0.97      0.97      0.97      1393\n",
            "\n",
            "\n",
            "confusion matrix for old model: \n",
            "[[1188    3]\n",
            " [  43  159]]\n"
          ]
        },
        {
          "data": {
            "text/plain": [
              "0.9669777458722182"
            ]
          },
          "execution_count": 36,
          "metadata": {},
          "output_type": "execute_result"
        }
      ],
      "source": [
        "from sklearn.metrics import confusion_matrix\n",
        "from sklearn.metrics import classification_report\n",
        "\n",
        "print(\"******* SVM ********\")\n",
        "print(\"printing old classification report: \")\n",
        "print(classification_report(y_test_old, y_pred_old))\n",
        "print(\"\\nconfusion matrix for old model: \")\n",
        "print(confusion_matrix(y_test_old, y_pred_old))\n",
        "\n",
        "classifier_old.score(X_test_old1d, y_test_old)\n"
      ]
    },
    {
      "cell_type": "code",
      "execution_count": 37,
      "metadata": {
        "id": "tOuPfWK-lAcL"
      },
      "outputs": [],
      "source": [
        "from sklearn.neighbors import KNeighborsClassifier as knn"
      ]
    },
    {
      "cell_type": "code",
      "execution_count": 41,
      "metadata": {
        "id": "EW4RhDS04GXo"
      },
      "outputs": [],
      "source": [
        "knn_classifier_old = knn(n_neighbors=5).fit(X_train_old1d, y_train_old)"
      ]
    },
    {
      "cell_type": "code",
      "execution_count": 39,
      "metadata": {
        "id": "B6jhQi944LAx"
      },
      "outputs": [],
      "source": [
        "y_pred_knn_old = knn_classifier_old.predict(X_test_old1d)"
      ]
    },
    {
      "cell_type": "code",
      "execution_count": 40,
      "metadata": {
        "colab": {
          "base_uri": "https://localhost:8080/"
        },
        "id": "-WetoBtF4PPN",
        "outputId": "4c998e52-d4ed-4e87-eee2-fe960dbb03e2"
      },
      "outputs": [
        {
          "name": "stdout",
          "output_type": "stream",
          "text": [
            "**** KNN ****\n",
            "printing old classification report: \n",
            "              precision    recall  f1-score   support\n",
            "\n",
            "           0       0.88      1.00      0.94      1191\n",
            "           1       0.92      0.23      0.37       202\n",
            "\n",
            "    accuracy                           0.89      1393\n",
            "   macro avg       0.90      0.61      0.65      1393\n",
            "weighted avg       0.89      0.89      0.86      1393\n",
            "\n",
            "\n",
            "confusion matrix for old model: \n",
            "[[1187    4]\n",
            " [ 155   47]]\n"
          ]
        },
        {
          "data": {
            "text/plain": [
              "0.8858578607322326"
            ]
          },
          "execution_count": 40,
          "metadata": {},
          "output_type": "execute_result"
        }
      ],
      "source": [
        "print(\"**** KNN ****\")\n",
        "print(\"printing old classification report: \")\n",
        "print(classification_report(y_test_old, y_pred_knn_old))\n",
        "print(\"\\nconfusion matrix for old model: \")\n",
        "print(confusion_matrix(y_test_old, y_pred_knn_old))\n",
        "\n",
        "knn_classifier_old.score(X_test_old1d, y_test_old)"
      ]
    },
    {
      "cell_type": "code",
      "execution_count": null,
      "metadata": {
        "id": "LS3icJ5g5Bhc"
      },
      "outputs": [],
      "source": []
    },
    {
      "cell_type": "code",
      "execution_count": null,
      "metadata": {
        "id": "NU_HyvkS5Bd9"
      },
      "outputs": [],
      "source": []
    },
    {
      "cell_type": "code",
      "execution_count": 42,
      "metadata": {
        "colab": {
          "base_uri": "https://localhost:8080/"
        },
        "id": "q9NgSMrp4clZ",
        "outputId": "0c3b9909-6cd5-4d61-c2ba-78598789f81c"
      },
      "outputs": [
        {
          "name": "stdout",
          "output_type": "stream",
          "text": [
            "**** Random forest ****\n",
            "printing old classification report: \n",
            "              precision    recall  f1-score   support\n",
            "\n",
            "           0       0.94      1.00      0.97      1191\n",
            "           1       1.00      0.62      0.77       202\n",
            "\n",
            "    accuracy                           0.95      1393\n",
            "   macro avg       0.97      0.81      0.87      1393\n",
            "weighted avg       0.95      0.95      0.94      1393\n",
            "\n",
            "\n",
            "confusion matrix for old model: \n",
            "[[1191    0]\n",
            " [  76  126]]\n"
          ]
        },
        {
          "data": {
            "text/plain": [
              "0.9454414931801867"
            ]
          },
          "execution_count": 42,
          "metadata": {},
          "output_type": "execute_result"
        }
      ],
      "source": [
        "from sklearn.ensemble import RandomForestClassifier\n",
        "\n",
        "random_forest_old = RandomForestClassifier(random_state=0)\n",
        "random_forest_old.fit(X_train_old1d, y_train_old)\n",
        "\n",
        "y_pred_old_random_forest = random_forest_old.predict(X_test_old1d)\n",
        "\n",
        "\n",
        "\n",
        "print(\"**** Random forest ****\")\n",
        "print(\"printing old classification report: \")\n",
        "print(classification_report(y_test_old, y_pred_old_random_forest))\n",
        "print(\"\\nconfusion matrix for old model: \")\n",
        "print(confusion_matrix(y_test_old, y_pred_old_random_forest))\n",
        "\n",
        "random_forest_old.score(X_test_old1d, y_test_old)"
      ]
    },
    {
      "cell_type": "code",
      "execution_count": 42,
      "metadata": {
        "id": "raQIoL6c65id"
      },
      "outputs": [],
      "source": []
    },
    {
      "cell_type": "code",
      "execution_count": 42,
      "metadata": {
        "id": "_xOlcLip65YB"
      },
      "outputs": [],
      "source": []
    },
    {
      "cell_type": "code",
      "execution_count": 43,
      "metadata": {
        "colab": {
          "base_uri": "https://localhost:8080/"
        },
        "id": "o3JDC9Hm65Uu",
        "outputId": "dcbdb31f-8fab-4ec7-a2c3-f7123ee46e5d"
      },
      "outputs": [
        {
          "name": "stderr",
          "output_type": "stream",
          "text": [
            "/usr/local/lib/python3.10/dist-packages/sklearn/linear_model/_logistic.py:458: ConvergenceWarning: lbfgs failed to converge (status=1):\n",
            "STOP: TOTAL NO. of ITERATIONS REACHED LIMIT.\n",
            "\n",
            "Increase the number of iterations (max_iter) or scale the data as shown in:\n",
            "    https://scikit-learn.org/stable/modules/preprocessing.html\n",
            "Please also refer to the documentation for alternative solver options:\n",
            "    https://scikit-learn.org/stable/modules/linear_model.html#logistic-regression\n",
            "  n_iter_i = _check_optimize_result(\n"
          ]
        },
        {
          "name": "stdout",
          "output_type": "stream",
          "text": [
            "**** Logistic regression ****\n",
            "printing old classification report: \n",
            "              precision    recall  f1-score   support\n",
            "\n",
            "           0       0.97      0.98      0.98      1191\n",
            "           1       0.88      0.84      0.86       202\n",
            "\n",
            "    accuracy                           0.96      1393\n",
            "   macro avg       0.93      0.91      0.92      1393\n",
            "weighted avg       0.96      0.96      0.96      1393\n",
            "\n",
            "\n",
            "confusion matrix for old model: \n",
            "[[1169   22]\n",
            " [  33  169]]\n"
          ]
        },
        {
          "name": "stderr",
          "output_type": "stream",
          "text": [
            "/usr/local/lib/python3.10/dist-packages/sklearn/linear_model/_logistic.py:458: ConvergenceWarning: lbfgs failed to converge (status=1):\n",
            "STOP: TOTAL NO. of ITERATIONS REACHED LIMIT.\n",
            "\n",
            "Increase the number of iterations (max_iter) or scale the data as shown in:\n",
            "    https://scikit-learn.org/stable/modules/preprocessing.html\n",
            "Please also refer to the documentation for alternative solver options:\n",
            "    https://scikit-learn.org/stable/modules/linear_model.html#logistic-regression\n",
            "  n_iter_i = _check_optimize_result(\n"
          ]
        },
        {
          "data": {
            "text/plain": [
              "0.9605168700646087"
            ]
          },
          "execution_count": 43,
          "metadata": {},
          "output_type": "execute_result"
        }
      ],
      "source": [
        "from sklearn.linear_model import LogisticRegression\n",
        "\n",
        "LR_old = LogisticRegression(random_state=0).fit(X_train_old1d, y_train_old)\n",
        "\n",
        "LR_old.fit(X_train_old1d, y_train_old)\n",
        "\n",
        "y_pred_old_LR = LR_old.predict(X_test_old1d)\n",
        "\n",
        "\n",
        "\n",
        "print(\"**** Logistic regression ****\")\n",
        "print(\"printing old classification report: \")\n",
        "print(classification_report(y_test_old, y_pred_old_LR))\n",
        "print(\"\\nconfusion matrix for old model: \")\n",
        "print(confusion_matrix(y_test_old, y_pred_old_LR))\n",
        "\n",
        "LR_old.score(X_test_old1d, y_test_old)"
      ]
    },
    {
      "cell_type": "code",
      "execution_count": 43,
      "metadata": {
        "id": "8FozYGXu7x3g"
      },
      "outputs": [],
      "source": []
    },
    {
      "cell_type": "code",
      "execution_count": 44,
      "metadata": {
        "colab": {
          "base_uri": "https://localhost:8080/"
        },
        "id": "O9T96CBL7x0M",
        "outputId": "69a28f6c-9c8c-42f0-eb73-277da13ebd99"
      },
      "outputs": [
        {
          "name": "stdout",
          "output_type": "stream",
          "text": [
            "**** Naive Bayse ****\n",
            "printing old classification report: \n",
            "              precision    recall  f1-score   support\n",
            "\n",
            "           0       1.00      0.01      0.01      1191\n",
            "           1       0.15      1.00      0.25       202\n",
            "\n",
            "    accuracy                           0.15      1393\n",
            "   macro avg       0.57      0.50      0.13      1393\n",
            "weighted avg       0.88      0.15      0.05      1393\n",
            "\n",
            "\n",
            "confusion matrix for old model: \n",
            "[[   9 1182]\n",
            " [   0  202]]\n"
          ]
        },
        {
          "data": {
            "text/plain": [
              "0.15147164393395549"
            ]
          },
          "execution_count": 44,
          "metadata": {},
          "output_type": "execute_result"
        }
      ],
      "source": [
        "from sklearn.naive_bayes import GaussianNB\n",
        "gnb_old = GaussianNB()\n",
        "y_pred_old_gnb = gnb_old.fit(X_train_old1d, y_train_old).predict(X_test_old1d)\n",
        "\n",
        "\n",
        "\n",
        "print(\"**** Naive Bayse ****\")\n",
        "print(\"printing old classification report: \")\n",
        "print(classification_report(y_test_old, y_pred_old_gnb))\n",
        "print(\"\\nconfusion matrix for old model: \")\n",
        "print(confusion_matrix(y_test_old, y_pred_old_gnb))\n",
        "\n",
        "gnb_old.score(X_test_old1d, y_test_old)"
      ]
    },
    {
      "cell_type": "code",
      "execution_count": 44,
      "metadata": {
        "id": "wjd7Ib3V7xxz"
      },
      "outputs": [],
      "source": []
    },
    {
      "cell_type": "code",
      "execution_count": 45,
      "metadata": {
        "id": "eIrK8z3C8o8A"
      },
      "outputs": [],
      "source": [
        "from sklearn.ensemble import GradientBoostingClassifier\n",
        "clf_gb_old = GradientBoostingClassifier(learning_rate=1.0, random_state=0).fit(X_train_old1d, y_train_old)\n",
        "y_pred_old_gb = clf_gb_old.predict(X_test_old1d)"
      ]
    },
    {
      "cell_type": "code",
      "execution_count": 46,
      "metadata": {
        "colab": {
          "base_uri": "https://localhost:8080/"
        },
        "id": "G8EqfHmw_QkS",
        "outputId": "b6e7312d-81e4-42b5-bcb4-3d2fba30dad1"
      },
      "outputs": [
        {
          "name": "stdout",
          "output_type": "stream",
          "text": [
            "**** GB ****\n",
            "printing old classification report: \n",
            "              precision    recall  f1-score   support\n",
            "\n",
            "           0       0.97      0.98      0.97      1191\n",
            "           1       0.85      0.79      0.82       202\n",
            "\n",
            "    accuracy                           0.95      1393\n",
            "   macro avg       0.91      0.88      0.90      1393\n",
            "weighted avg       0.95      0.95      0.95      1393\n",
            "\n",
            "\n",
            "confusion matrix for old model: \n",
            "[[1163   28]\n",
            " [  42  160]]\n"
          ]
        },
        {
          "data": {
            "text/plain": [
              "0.949748743718593"
            ]
          },
          "execution_count": 46,
          "metadata": {},
          "output_type": "execute_result"
        }
      ],
      "source": [
        "print(\"**** GB ****\")\n",
        "print(\"printing old classification report: \")\n",
        "print(classification_report(y_test_old, y_pred_old_gb))\n",
        "print(\"\\nconfusion matrix for old model: \")\n",
        "print(confusion_matrix(y_test_old, y_pred_old_gb))\n",
        "\n",
        "clf_gb_old.score(X_test_old1d, y_test_old)"
      ]
    },
    {
      "cell_type": "code",
      "execution_count": 49,
      "metadata": {
        "colab": {
          "base_uri": "https://localhost:8080/"
        },
        "id": "cHjE8Ysg6VOh",
        "outputId": "deb62299-6c8e-46b8-d8c6-e3ecf9adeaeb"
      },
      "outputs": [
        {
          "name": "stdout",
          "output_type": "stream",
          "text": [
            "**** Decision Tree ****\n",
            "printing old classification report: \n",
            "              precision    recall  f1-score   support\n",
            "\n",
            "           0       0.95      0.95      0.95      1191\n",
            "           1       0.70      0.71      0.70       202\n",
            "\n",
            "    accuracy                           0.91      1393\n",
            "   macro avg       0.82      0.83      0.83      1393\n",
            "weighted avg       0.91      0.91      0.91      1393\n",
            "\n",
            "\n",
            "confusion matrix for old model: \n",
            "[[1128   63]\n",
            " [  58  144]]\n"
          ]
        },
        {
          "data": {
            "text/plain": [
              "0.9131371141421393"
            ]
          },
          "execution_count": 49,
          "metadata": {},
          "output_type": "execute_result"
        }
      ],
      "source": [
        "from sklearn import tree\n",
        "tree_old = tree.DecisionTreeClassifier()\n",
        "\n",
        "y_pred_old_dt = tree_old.fit(X_train_old1d, y_train_old).predict(X_test_old1d)\n",
        "\n",
        "\n",
        "print(\"**** Decision Tree ****\")\n",
        "print(\"printing old classification report: \")\n",
        "print(classification_report(y_test_old, y_pred_old_dt))\n",
        "print(\"\\nconfusion matrix for old model: \")\n",
        "print(confusion_matrix(y_test_old, y_pred_old_dt))\n",
        "\n",
        "tree_old.score(X_test_old1d, y_test_old)\n"
      ]
    },
    {
      "cell_type": "code",
      "execution_count": 48,
      "metadata": {
        "colab": {
          "base_uri": "https://localhost:8080/"
        },
        "id": "IAViEvWu_UoX",
        "outputId": "d05d6f34-b928-4f8b-e49a-76f686a0d32f"
      },
      "outputs": [
        {
          "name": "stdout",
          "output_type": "stream",
          "text": [
            "**** AdaBoost ****\n",
            "printing old classification report: \n",
            "              precision    recall  f1-score   support\n",
            "\n",
            "           0       0.95      0.98      0.96      1191\n",
            "           1       0.84      0.70      0.77       202\n",
            "\n",
            "    accuracy                           0.94      1393\n",
            "   macro avg       0.90      0.84      0.86      1393\n",
            "weighted avg       0.93      0.94      0.94      1393\n",
            "\n",
            "\n",
            "confusion matrix for old model: \n",
            "[[1164   27]\n",
            " [  60  142]]\n"
          ]
        },
        {
          "data": {
            "text/plain": [
              "0.9375448671931084"
            ]
          },
          "execution_count": 48,
          "metadata": {},
          "output_type": "execute_result"
        }
      ],
      "source": [
        "from sklearn.ensemble import AdaBoostClassifier\n",
        "clf_old_ab = AdaBoostClassifier(random_state=0)\n",
        "\n",
        "y_pred_old_ab = clf_old_ab.fit(X_train_old1d, y_train_old).predict(X_test_old1d)\n",
        "\n",
        "\n",
        "print(\"**** AdaBoost ****\")\n",
        "print(\"printing old classification report: \")\n",
        "print(classification_report(y_test_old, y_pred_old_ab))\n",
        "print(\"\\nconfusion matrix for old model: \")\n",
        "print(confusion_matrix(y_test_old, y_pred_old_ab))\n",
        "\n",
        "clf_old_ab.score(X_test_old1d, y_test_old)"
      ]
    },
    {
      "cell_type": "code",
      "execution_count": null,
      "metadata": {
        "id": "YN1bANTNAVPm"
      },
      "outputs": [],
      "source": []
    }
  ],
  "metadata": {
    "colab": {
      "provenance": []
    },
    "kernelspec": {
      "display_name": "Python 3",
      "name": "python3"
    },
    "language_info": {
      "name": "python"
    }
  },
  "nbformat": 4,
  "nbformat_minor": 0
}
